{
 "cells": [
  {
   "cell_type": "markdown",
   "metadata": {},
   "source": [
    "# Importing Libraries "
   ]
  },
  {
   "cell_type": "code",
   "execution_count": 266,
   "metadata": {
    "collapsed": true
   },
   "outputs": [],
   "source": [
    "import pandas as pd\n",
    "import numpy as np\n",
    "import matplotlib.pyplot as plt\n",
    "import seaborn as sns\n",
    "%matplotlib inline"
   ]
  },
  {
   "cell_type": "markdown",
   "metadata": {},
   "source": [
    "## Importing dataset "
   ]
  },
  {
   "cell_type": "code",
   "execution_count": 267,
   "metadata": {
    "collapsed": true
   },
   "outputs": [],
   "source": [
    "df=pd.read_csv('train.csv')"
   ]
  },
  {
   "cell_type": "code",
   "execution_count": 268,
   "metadata": {},
   "outputs": [
    {
     "data": {
      "text/plain": [
       "0    2454\n",
       "1     164\n",
       "Name: Purchase, dtype: int64"
      ]
     },
     "execution_count": 268,
     "metadata": {},
     "output_type": "execute_result"
    }
   ],
   "source": [
    "df['Purchase'].value_counts()"
   ]
  },
  {
   "cell_type": "code",
   "execution_count": 269,
   "metadata": {
    "collapsed": true
   },
   "outputs": [],
   "source": [
    "y = df.Purchase\n",
    "X = df.drop('Purchase', axis=1)\n",
    "X=X.iloc[:,1:]"
   ]
  },
  {
   "cell_type": "markdown",
   "metadata": {},
   "source": [
    "## Preprocessing "
   ]
  },
  {
   "cell_type": "code",
   "execution_count": 270,
   "metadata": {
    "collapsed": true
   },
   "outputs": [],
   "source": [
    "from sklearn.preprocessing import OneHotEncoder\n",
    "onehotencoder = OneHotEncoder(categorical_features = [0, 3, 4])\n",
    "X = onehotencoder.fit_transform(X).toarray()"
   ]
  },
  {
   "cell_type": "code",
   "execution_count": 271,
   "metadata": {},
   "outputs": [
    {
     "data": {
      "text/plain": [
       "(2618, 138)"
      ]
     },
     "execution_count": 271,
     "metadata": {},
     "output_type": "execute_result"
    }
   ],
   "source": [
    "X.shape"
   ]
  },
  {
   "cell_type": "code",
   "execution_count": 272,
   "metadata": {
    "collapsed": true
   },
   "outputs": [],
   "source": [
    "#Splitting the dataset into the Training set and Test set\n",
    "from sklearn.model_selection import train_test_split\n",
    "X_train, X_test, y_train, y_test = train_test_split(X, y, test_size = 0.1, random_state = 0)"
   ]
  },
  {
   "cell_type": "code",
   "execution_count": 273,
   "metadata": {},
   "outputs": [
    {
     "data": {
      "text/plain": [
       "(2356, 138)"
      ]
     },
     "execution_count": 273,
     "metadata": {},
     "output_type": "execute_result"
    }
   ],
   "source": [
    "X_train.shape"
   ]
  },
  {
   "cell_type": "markdown",
   "metadata": {},
   "source": [
    "## Randomized Logistic Regression  (Feature Selection)"
   ]
  },
  {
   "cell_type": "code",
   "execution_count": 274,
   "metadata": {},
   "outputs": [
    {
     "name": "stderr",
     "output_type": "stream",
     "text": [
      "C:\\Users\\Jaadugar\\Anaconda3\\lib\\site-packages\\sklearn\\utils\\deprecation.py:58: DeprecationWarning: Class RandomizedLogisticRegression is deprecated; The class RandomizedLogisticRegression is deprecated in 0.19 and will be removed in 0.21.\n",
      "  warnings.warn(msg, category=DeprecationWarning)\n"
     ]
    }
   ],
   "source": [
    "from sklearn.linear_model import RandomizedLogisticRegression\n",
    "randomlr = RandomizedLogisticRegression(selection_threshold=0.05)\n",
    "X_train = randomlr.fit_transform(X_train,y_train)\n",
    "X_test = randomlr.transform(X_test)"
   ]
  },
  {
   "cell_type": "code",
   "execution_count": 275,
   "metadata": {},
   "outputs": [
    {
     "data": {
      "text/plain": [
       "(2356, 6)"
      ]
     },
     "execution_count": 275,
     "metadata": {},
     "output_type": "execute_result"
    }
   ],
   "source": [
    "X_train.shape"
   ]
  },
  {
   "cell_type": "markdown",
   "metadata": {},
   "source": [
    "# SMOTE algorithm (Synthetic Minority Oversampling Technique) "
   ]
  },
  {
   "cell_type": "code",
   "execution_count": 276,
   "metadata": {
    "collapsed": true
   },
   "outputs": [],
   "source": [
    "from imblearn.over_sampling import SMOTE \n",
    "sm = SMOTE(random_state=42,ratio=1.0)"
   ]
  },
  {
   "cell_type": "code",
   "execution_count": 277,
   "metadata": {},
   "outputs": [
    {
     "name": "stderr",
     "output_type": "stream",
     "text": [
      "C:\\Users\\Jaadugar\\Anaconda3\\lib\\site-packages\\sklearn\\utils\\deprecation.py:77: DeprecationWarning: Function _ratio_float is deprecated; Use a float for 'ratio' is deprecated from version 0.2. The support will be removed in 0.4. Use a dict, str, or a callable instead.\n",
      "  warnings.warn(msg, category=DeprecationWarning)\n"
     ]
    }
   ],
   "source": [
    "X_train, y_train = sm.fit_sample(X_train, y_train)"
   ]
  },
  {
   "cell_type": "code",
   "execution_count": 278,
   "metadata": {},
   "outputs": [
    {
     "name": "stdout",
     "output_type": "stream",
     "text": [
      "6\n"
     ]
    }
   ],
   "source": [
    "input_length=X_train.shape[1]\n",
    "print(input_length)"
   ]
  },
  {
   "cell_type": "markdown",
   "metadata": {},
   "source": [
    "# Modeling Deep Network"
   ]
  },
  {
   "cell_type": "code",
   "execution_count": 279,
   "metadata": {},
   "outputs": [],
   "source": [
    "# Importing the Keras libraries and packages\n",
    "import keras\n",
    "from keras.models import Sequential\n",
    "from keras.layers import Dense\n",
    "from keras.layers import Dropout"
   ]
  },
  {
   "cell_type": "code",
   "execution_count": 280,
   "metadata": {
    "collapsed": true
   },
   "outputs": [],
   "source": [
    "# Initialising the ANN\n",
    "classifier = Sequential()"
   ]
  },
  {
   "cell_type": "code",
   "execution_count": null,
   "metadata": {},
   "outputs": [
    {
     "name": "stdout",
     "output_type": "stream",
     "text": [
      "Epoch 1/100\n",
      "4422/4422 [==============================] - 4s - loss: 0.6769 - acc: 0.5816     \n",
      "Epoch 2/100\n",
      "4422/4422 [==============================] - 1s - loss: 0.6441 - acc: 0.6452     \n",
      "Epoch 3/100\n",
      "4422/4422 [==============================] - 1s - loss: 0.6157 - acc: 0.6832     \n",
      "Epoch 4/100\n",
      "4422/4422 [==============================] - 1s - loss: 0.6166 - acc: 0.6818     \n",
      "Epoch 5/100\n",
      "4422/4422 [==============================] - 1s - loss: 0.6166 - acc: 0.6891     \n",
      "Epoch 6/100\n",
      "4422/4422 [==============================] - 1s - loss: 0.6136 - acc: 0.6956     \n",
      "Epoch 7/100\n",
      "4422/4422 [==============================] - 1s - loss: 0.6076 - acc: 0.6943     \n",
      "Epoch 8/100\n",
      "4422/4422 [==============================] - 1s - loss: 0.6104 - acc: 0.6965     \n",
      "Epoch 9/100\n",
      "4422/4422 [==============================] - 1s - loss: 0.6030 - acc: 0.6949     \n",
      "Epoch 10/100\n",
      "4422/4422 [==============================] - 1s - loss: 0.6084 - acc: 0.6981     \n",
      "Epoch 11/100\n",
      "4422/4422 [==============================] - 1s - loss: 0.6047 - acc: 0.7076     - ETA: 0s - loss: 0.6074\n",
      "Epoch 12/100\n",
      "4422/4422 [==============================] - 1s - loss: 0.6021 - acc: 0.7038     \n",
      "Epoch 13/100\n",
      "4422/4422 [==============================] - 1s - loss: 0.6070 - acc: 0.7017     \n",
      "Epoch 14/100\n",
      "4422/4422 [==============================] - 1s - loss: 0.6024 - acc: 0.7092     \n",
      "Epoch 15/100\n",
      "4422/4422 [==============================] - 1s - loss: 0.6009 - acc: 0.7038     \n",
      "Epoch 16/100\n",
      "4422/4422 [==============================] - 1s - loss: 0.6053 - acc: 0.7051     \n",
      "Epoch 17/100\n",
      "4422/4422 [==============================] - 1s - loss: 0.6001 - acc: 0.7035     \n",
      "Epoch 18/100\n",
      "4422/4422 [==============================] - 1s - loss: 0.5989 - acc: 0.6986     \n",
      "Epoch 19/100\n",
      "4422/4422 [==============================] - 1s - loss: 0.6045 - acc: 0.7083     \n",
      "Epoch 20/100\n",
      "4422/4422 [==============================] - 1s - loss: 0.6013 - acc: 0.7060     \n",
      "Epoch 21/100\n",
      "4422/4422 [==============================] - 1s - loss: 0.5996 - acc: 0.7026     \n",
      "Epoch 22/100\n",
      "4422/4422 [==============================] - 1s - loss: 0.6009 - acc: 0.6970     \n",
      "Epoch 23/100\n",
      "4422/4422 [==============================] - 1s - loss: 0.5991 - acc: 0.7015     \n",
      "Epoch 24/100\n",
      "4422/4422 [==============================] - 1s - loss: 0.5988 - acc: 0.7049     \n",
      "Epoch 25/100\n",
      "4422/4422 [==============================] - 1s - loss: 0.5950 - acc: 0.7040     \n",
      "Epoch 26/100\n",
      "4422/4422 [==============================] - 1s - loss: 0.6030 - acc: 0.7033     \n",
      "Epoch 27/100\n",
      "4422/4422 [==============================] - 1s - loss: 0.5981 - acc: 0.7060     \n",
      "Epoch 28/100\n",
      "4422/4422 [==============================] - 1s - loss: 0.6045 - acc: 0.6997     \n",
      "Epoch 29/100\n",
      "4422/4422 [==============================] - 1s - loss: 0.6020 - acc: 0.7010     \n",
      "Epoch 30/100\n",
      "4422/4422 [==============================] - 1s - loss: 0.6027 - acc: 0.7038     \n",
      "Epoch 31/100\n",
      "4422/4422 [==============================] - 1s - loss: 0.5963 - acc: 0.7053     \n",
      "Epoch 32/100\n",
      "4422/4422 [==============================] - 1s - loss: 0.5963 - acc: 0.7065     \n",
      "Epoch 33/100\n",
      "4422/4422 [==============================] - 1s - loss: 0.6004 - acc: 0.7006     \n",
      "Epoch 34/100\n",
      "4422/4422 [==============================] - 1s - loss: 0.6010 - acc: 0.7028     \n",
      "Epoch 35/100\n",
      "4422/4422 [==============================] - 0s - loss: 0.5977 - acc: 0.7083     \n",
      "Epoch 36/100\n",
      "4422/4422 [==============================] - 1s - loss: 0.5959 - acc: 0.7047     \n",
      "Epoch 37/100\n",
      "4422/4422 [==============================] - 1s - loss: 0.6018 - acc: 0.7017     \n",
      "Epoch 38/100\n",
      "4422/4422 [==============================] - 1s - loss: 0.5992 - acc: 0.7101     \n",
      "Epoch 39/100\n",
      "4422/4422 [==============================] - 0s - loss: 0.5995 - acc: 0.7094     \n",
      "Epoch 40/100\n",
      "4422/4422 [==============================] - 0s - loss: 0.6025 - acc: 0.7067     \n",
      "Epoch 41/100\n",
      "4422/4422 [==============================] - 1s - loss: 0.5998 - acc: 0.6997     \n",
      "Epoch 42/100\n",
      "4422/4422 [==============================] - 1s - loss: 0.6029 - acc: 0.7062     \n",
      "Epoch 43/100\n",
      "4422/4422 [==============================] - 1s - loss: 0.6036 - acc: 0.7051     \n",
      "Epoch 44/100\n",
      "4422/4422 [==============================] - 1s - loss: 0.5961 - acc: 0.7071     \n",
      "Epoch 45/100\n",
      "4422/4422 [==============================] - 1s - loss: 0.6003 - acc: 0.7042     \n",
      "Epoch 46/100\n",
      "4422/4422 [==============================] - 1s - loss: 0.6002 - acc: 0.7123     \n",
      "Epoch 47/100\n",
      "4422/4422 [==============================] - 1s - loss: 0.6041 - acc: 0.7010     \n",
      "Epoch 48/100\n",
      "4422/4422 [==============================] - 1s - loss: 0.5950 - acc: 0.7087     \n",
      "Epoch 49/100\n",
      "4422/4422 [==============================] - 1s - loss: 0.6020 - acc: 0.7042     \n",
      "Epoch 50/100\n",
      "4422/4422 [==============================] - 1s - loss: 0.5983 - acc: 0.7058     \n",
      "Epoch 51/100\n",
      "4422/4422 [==============================] - 1s - loss: 0.5946 - acc: 0.7121     \n",
      "Epoch 52/100\n",
      "4422/4422 [==============================] - 1s - loss: 0.5937 - acc: 0.7121     \n",
      "Epoch 53/100\n",
      "4422/4422 [==============================] - 1s - loss: 0.5987 - acc: 0.7001     \n",
      "Epoch 54/100\n",
      "4422/4422 [==============================] - 1s - loss: 0.5951 - acc: 0.7130     \n",
      "Epoch 55/100\n",
      "4422/4422 [==============================] - 1s - loss: 0.5932 - acc: 0.7121     \n",
      "Epoch 56/100\n",
      "4422/4422 [==============================] - 1s - loss: 0.6001 - acc: 0.7094     \n",
      "Epoch 57/100\n",
      "4422/4422 [==============================] - 1s - loss: 0.5933 - acc: 0.7121     \n",
      "Epoch 58/100\n",
      "4422/4422 [==============================] - 1s - loss: 0.5927 - acc: 0.7094     \n",
      "Epoch 59/100\n",
      "4422/4422 [==============================] - 1s - loss: 0.5958 - acc: 0.7101     \n",
      "Epoch 60/100\n",
      "4422/4422 [==============================] - 1s - loss: 0.5931 - acc: 0.7128     \n",
      "Epoch 61/100\n",
      "4422/4422 [==============================] - 1s - loss: 0.5946 - acc: 0.7144     \n",
      "Epoch 62/100\n",
      "4422/4422 [==============================] - 1s - loss: 0.5908 - acc: 0.7135     \n",
      "Epoch 63/100\n",
      "4422/4422 [==============================] - 1s - loss: 0.5952 - acc: 0.7166     \n",
      "Epoch 64/100\n",
      "4422/4422 [==============================] - 1s - loss: 0.5975 - acc: 0.7099     \n",
      "Epoch 65/100\n",
      "4422/4422 [==============================] - 1s - loss: 0.5945 - acc: 0.7180     \n",
      "Epoch 66/100\n",
      "4422/4422 [==============================] - 1s - loss: 0.5945 - acc: 0.7074     \n",
      "Epoch 67/100\n",
      "4422/4422 [==============================] - 1s - loss: 0.5994 - acc: 0.7180     \n",
      "Epoch 68/100\n",
      "4422/4422 [==============================] - 1s - loss: 0.5923 - acc: 0.7121     \n",
      "Epoch 69/100\n",
      "4422/4422 [==============================] - 1s - loss: 0.5944 - acc: 0.7142     - ETA: 1s - loss\n",
      "Epoch 70/100\n",
      "4422/4422 [==============================] - 1s - loss: 0.5927 - acc: 0.7187     \n",
      "Epoch 71/100\n",
      "4422/4422 [==============================] - 1s - loss: 0.5927 - acc: 0.7114     \n",
      "Epoch 72/100\n",
      "4422/4422 [==============================] - 1s - loss: 0.5927 - acc: 0.7094     \n",
      "Epoch 73/100\n",
      "4422/4422 [==============================] - 1s - loss: 0.5918 - acc: 0.7187     \n",
      "Epoch 74/100\n",
      "4422/4422 [==============================] - 1s - loss: 0.5927 - acc: 0.7130     \n",
      "Epoch 75/100\n",
      "4422/4422 [==============================] - 1s - loss: 0.5900 - acc: 0.7162     \n",
      "Epoch 76/100\n",
      "4422/4422 [==============================] - 1s - loss: 0.5952 - acc: 0.7128     \n",
      "Epoch 77/100\n",
      "4422/4422 [==============================] - 1s - loss: 0.5917 - acc: 0.7178     \n",
      "Epoch 78/100\n",
      "4422/4422 [==============================] - 1s - loss: 0.5939 - acc: 0.7071     \n",
      "Epoch 79/100\n",
      "4422/4422 [==============================] - 1s - loss: 0.5894 - acc: 0.7160     \n",
      "Epoch 80/100\n",
      "4422/4422 [==============================] - 1s - loss: 0.5945 - acc: 0.7105     \n",
      "Epoch 81/100\n",
      "4422/4422 [==============================] - 1s - loss: 0.5905 - acc: 0.7105     \n",
      "Epoch 82/100\n",
      "4422/4422 [==============================] - 1s - loss: 0.5910 - acc: 0.7166     \n",
      "Epoch 83/100\n",
      "4422/4422 [==============================] - 1s - loss: 0.5945 - acc: 0.7169     \n",
      "Epoch 84/100\n",
      "4422/4422 [==============================] - 1s - loss: 0.5896 - acc: 0.7200     \n",
      "Epoch 85/100\n",
      "4422/4422 [==============================] - 1s - loss: 0.5931 - acc: 0.7123     \n",
      "Epoch 86/100\n"
     ]
    },
    {
     "name": "stdout",
     "output_type": "stream",
     "text": [
      "4422/4422 [==============================] - 1s - loss: 0.5954 - acc: 0.7187     \n",
      "Epoch 87/100\n",
      "4422/4422 [==============================] - 1s - loss: 0.5884 - acc: 0.7139     \n",
      "Epoch 88/100\n",
      "4422/4422 [==============================] - 1s - loss: 0.5939 - acc: 0.7153     \n",
      "Epoch 89/100\n",
      "4422/4422 [==============================] - 1s - loss: 0.5930 - acc: 0.7155     - ETA: 1s - loss: 0.5939 - acc: 0.72 - ETA: 1s - loss\n",
      "Epoch 90/100\n",
      "4422/4422 [==============================] - 1s - loss: 0.5948 - acc: 0.7187     \n",
      "Epoch 91/100\n",
      "3830/4422 [========================>.....] - ETA: 0s - loss: 0.5896 - acc: 0.7117- ETA: 1s - loss: 0"
     ]
    }
   ],
   "source": [
    "# Adding the input layer and the first hidden layer\n",
    "classifier.add(Dense(units = 10, kernel_initializer = 'uniform', activation = 'tanh', input_dim = input_length))\n",
    "classifier.add(Dropout(0.5))\n",
    "\n",
    "# Adding the input layer and the first hidden layer\n",
    "classifier.add(Dense(units = 5, kernel_initializer = 'uniform', activation = 'tanh'))\n",
    "classifier.add(Dropout(0.5))\n",
    "\n",
    "# Adding the output layer\n",
    "classifier.add(Dense(units = 1, kernel_initializer = 'uniform', activation = 'sigmoid'))\n",
    "\n",
    "# Compiling the ANN\n",
    "classifier.compile(optimizer = 'adam', loss = 'binary_crossentropy', metrics = ['accuracy'])\n",
    "\n",
    "# Fitting the ANN to the Training set\n",
    "classifier.fit(X_train, y_train, batch_size = 10, epochs = 100)"
   ]
  },
  {
   "cell_type": "code",
   "execution_count": 222,
   "metadata": {
    "collapsed": true
   },
   "outputs": [],
   "source": [
    "# Predicting the Test set results\n",
    "y_pred = classifier.predict(X_test)\n",
    "y_pred = (y_pred > 0.5)"
   ]
  },
  {
   "cell_type": "code",
   "execution_count": 223,
   "metadata": {},
   "outputs": [
    {
     "name": "stdout",
     "output_type": "stream",
     "text": [
      "[[155  88]\n",
      " [  7  12]]\n"
     ]
    }
   ],
   "source": [
    "# Making the Confusion Matrix\n",
    "from sklearn.metrics import confusion_matrix\n",
    "cm = confusion_matrix(y_test, y_pred)\n",
    "print(cm)"
   ]
  },
  {
   "cell_type": "code",
   "execution_count": 224,
   "metadata": {},
   "outputs": [
    {
     "name": "stdout",
     "output_type": "stream",
     "text": [
      "             precision    recall  f1-score   support\n",
      "\n",
      "          0       0.96      0.64      0.77       243\n",
      "          1       0.12      0.63      0.20        19\n",
      "\n",
      "avg / total       0.90      0.64      0.72       262\n",
      "\n"
     ]
    }
   ],
   "source": [
    "from sklearn.metrics import classification_report\n",
    "report = classification_report(y_test, y_pred)\n",
    "print(report)"
   ]
  },
  {
   "cell_type": "markdown",
   "metadata": {},
   "source": [
    "# Predicting the Test Data"
   ]
  },
  {
   "cell_type": "code",
   "execution_count": 194,
   "metadata": {
    "collapsed": true
   },
   "outputs": [],
   "source": [
    "df_test=pd.read_csv('test.csv')"
   ]
  },
  {
   "cell_type": "code",
   "execution_count": 195,
   "metadata": {
    "collapsed": true
   },
   "outputs": [],
   "source": [
    "X_test=df_test.iloc[:,1:].values"
   ]
  },
  {
   "cell_type": "code",
   "execution_count": 196,
   "metadata": {},
   "outputs": [
    {
     "data": {
      "text/plain": [
       "(2553, 85)"
      ]
     },
     "execution_count": 196,
     "metadata": {},
     "output_type": "execute_result"
    }
   ],
   "source": [
    "X_test.shape"
   ]
  },
  {
   "cell_type": "code",
   "execution_count": 197,
   "metadata": {
    "collapsed": true
   },
   "outputs": [],
   "source": [
    "X_test = onehotencoder.fit_transform(X_test).toarray()"
   ]
  },
  {
   "cell_type": "code",
   "execution_count": 198,
   "metadata": {
    "collapsed": true
   },
   "outputs": [],
   "source": [
    "X_test = randomlr.transform(X_test)"
   ]
  },
  {
   "cell_type": "code",
   "execution_count": 199,
   "metadata": {},
   "outputs": [
    {
     "data": {
      "text/plain": [
       "(2553, 4)"
      ]
     },
     "execution_count": 199,
     "metadata": {},
     "output_type": "execute_result"
    }
   ],
   "source": [
    "X_test.shape"
   ]
  },
  {
   "cell_type": "code",
   "execution_count": 200,
   "metadata": {
    "collapsed": true
   },
   "outputs": [],
   "source": [
    "y_pred = classifier.predict(X_test)"
   ]
  },
  {
   "cell_type": "code",
   "execution_count": 201,
   "metadata": {
    "collapsed": true
   },
   "outputs": [],
   "source": [
    "for i in range(0,len(y_pred)):\n",
    "    if(y_pred[i]>0.5):\n",
    "        y_pred[i]=1\n",
    "    else:\n",
    "        y_pred[i]=0"
   ]
  },
  {
   "cell_type": "code",
   "execution_count": 202,
   "metadata": {},
   "outputs": [
    {
     "name": "stdout",
     "output_type": "stream",
     "text": [
      "[ 0.  1.]\n"
     ]
    }
   ],
   "source": [
    "print( np.unique(y_pred ))"
   ]
  },
  {
   "cell_type": "code",
   "execution_count": 203,
   "metadata": {},
   "outputs": [
    {
     "data": {
      "text/plain": [
       "712"
      ]
     },
     "execution_count": 203,
     "metadata": {},
     "output_type": "execute_result"
    }
   ],
   "source": [
    "np.count_nonzero(y_pred)"
   ]
  },
  {
   "cell_type": "markdown",
   "metadata": {},
   "source": [
    "# Saving the file"
   ]
  },
  {
   "cell_type": "code",
   "execution_count": 204,
   "metadata": {
    "collapsed": true
   },
   "outputs": [],
   "source": [
    "#Saving the file\n",
    "result=pd.read_csv('update.csv')\n",
    "result['Purchase']=y_pred"
   ]
  },
  {
   "cell_type": "code",
   "execution_count": 205,
   "metadata": {
    "collapsed": true
   },
   "outputs": [],
   "source": [
    "result.to_csv('deep.csv',index=False)"
   ]
  },
  {
   "cell_type": "code",
   "execution_count": null,
   "metadata": {
    "collapsed": true
   },
   "outputs": [],
   "source": []
  },
  {
   "cell_type": "code",
   "execution_count": null,
   "metadata": {
    "collapsed": true
   },
   "outputs": [],
   "source": []
  }
 ],
 "metadata": {
  "kernelspec": {
   "display_name": "Python 3",
   "language": "python",
   "name": "python3"
  },
  "language_info": {
   "codemirror_mode": {
    "name": "ipython",
    "version": 3
   },
   "file_extension": ".py",
   "mimetype": "text/x-python",
   "name": "python",
   "nbconvert_exporter": "python",
   "pygments_lexer": "ipython3",
   "version": "3.6.3"
  }
 },
 "nbformat": 4,
 "nbformat_minor": 2
}
